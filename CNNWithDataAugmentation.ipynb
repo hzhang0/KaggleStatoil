{
 "cells": [
  {
   "cell_type": "code",
   "execution_count": 31,
   "metadata": {},
   "outputs": [],
   "source": [
    "from keras.layers import Conv2D, MaxPooling2D, Input, Dense, Flatten, BatchNormalization, Concatenate, Dropout\n",
    "from keras.layers import Input\n",
    "from keras.optimizers import Adam\n",
    "from keras.preprocessing import image\n",
    "from keras.models import Model\n",
    "import numpy as np\n",
    "import pandas as pd\n",
    "from PIL import Image\n",
    "from matplotlib import pyplot as plt\n",
    "import tensorflow as tf\n",
    "from keras.callbacks import EarlyStopping, ModelCheckpoint, ReduceLROnPlateau\n",
    "import keras.backend as K"
   ]
  },
  {
   "cell_type": "code",
   "execution_count": 2,
   "metadata": {
    "collapsed": true
   },
   "outputs": [],
   "source": [
    "train = pd.read_json('data/train/processed/train.json')\n",
    "test = pd.read_json('data/test/processed/test.json')"
   ]
  },
  {
   "cell_type": "code",
   "execution_count": 3,
   "metadata": {},
   "outputs": [
    {
     "data": {
      "text/html": [
       "<div>\n",
       "<style>\n",
       "    .dataframe thead tr:only-child th {\n",
       "        text-align: right;\n",
       "    }\n",
       "\n",
       "    .dataframe thead th {\n",
       "        text-align: left;\n",
       "    }\n",
       "\n",
       "    .dataframe tbody tr th {\n",
       "        vertical-align: top;\n",
       "    }\n",
       "</style>\n",
       "<table border=\"1\" class=\"dataframe\">\n",
       "  <thead>\n",
       "    <tr style=\"text-align: right;\">\n",
       "      <th></th>\n",
       "      <th>band_1</th>\n",
       "      <th>band_2</th>\n",
       "      <th>id</th>\n",
       "      <th>inc_angle</th>\n",
       "      <th>is_iceberg</th>\n",
       "    </tr>\n",
       "  </thead>\n",
       "  <tbody>\n",
       "    <tr>\n",
       "      <th>0</th>\n",
       "      <td>[-27.878360999999998, -27.15416, -28.668615, -...</td>\n",
       "      <td>[-27.154118, -29.537888, -31.0306, -32.190483,...</td>\n",
       "      <td>dfd5f913</td>\n",
       "      <td>43.9239</td>\n",
       "      <td>0</td>\n",
       "    </tr>\n",
       "    <tr>\n",
       "      <th>1</th>\n",
       "      <td>[-12.242375, -14.920304999999999, -14.920363, ...</td>\n",
       "      <td>[-31.506321, -27.984554, -26.645678, -23.76760...</td>\n",
       "      <td>e25388fd</td>\n",
       "      <td>38.1562</td>\n",
       "      <td>0</td>\n",
       "    </tr>\n",
       "    <tr>\n",
       "      <th>2</th>\n",
       "      <td>[-24.603676, -24.603714, -24.871029, -23.15277...</td>\n",
       "      <td>[-24.870956, -24.092632, -20.653963, -19.41104...</td>\n",
       "      <td>58b2aaa0</td>\n",
       "      <td>45.2859</td>\n",
       "      <td>1</td>\n",
       "    </tr>\n",
       "    <tr>\n",
       "      <th>3</th>\n",
       "      <td>[-22.454607, -23.082819, -23.998013, -23.99805...</td>\n",
       "      <td>[-27.889421, -27.519794, -27.165262, -29.10350...</td>\n",
       "      <td>4cfc3a18</td>\n",
       "      <td>43.8306</td>\n",
       "      <td>0</td>\n",
       "    </tr>\n",
       "    <tr>\n",
       "      <th>4</th>\n",
       "      <td>[-26.006956, -23.164886, -23.164886, -26.89116...</td>\n",
       "      <td>[-27.206915, -30.259186, -30.259186, -23.16495...</td>\n",
       "      <td>271f93f4</td>\n",
       "      <td>35.6256</td>\n",
       "      <td>0</td>\n",
       "    </tr>\n",
       "  </tbody>\n",
       "</table>\n",
       "</div>"
      ],
      "text/plain": [
       "                                              band_1  \\\n",
       "0  [-27.878360999999998, -27.15416, -28.668615, -...   \n",
       "1  [-12.242375, -14.920304999999999, -14.920363, ...   \n",
       "2  [-24.603676, -24.603714, -24.871029, -23.15277...   \n",
       "3  [-22.454607, -23.082819, -23.998013, -23.99805...   \n",
       "4  [-26.006956, -23.164886, -23.164886, -26.89116...   \n",
       "\n",
       "                                              band_2        id inc_angle  \\\n",
       "0  [-27.154118, -29.537888, -31.0306, -32.190483,...  dfd5f913   43.9239   \n",
       "1  [-31.506321, -27.984554, -26.645678, -23.76760...  e25388fd   38.1562   \n",
       "2  [-24.870956, -24.092632, -20.653963, -19.41104...  58b2aaa0   45.2859   \n",
       "3  [-27.889421, -27.519794, -27.165262, -29.10350...  4cfc3a18   43.8306   \n",
       "4  [-27.206915, -30.259186, -30.259186, -23.16495...  271f93f4   35.6256   \n",
       "\n",
       "   is_iceberg  \n",
       "0           0  \n",
       "1           0  \n",
       "2           1  \n",
       "3           0  \n",
       "4           0  "
      ]
     },
     "execution_count": 3,
     "metadata": {},
     "output_type": "execute_result"
    }
   ],
   "source": [
    "train.head()"
   ]
  },
  {
   "cell_type": "code",
   "execution_count": 4,
   "metadata": {},
   "outputs": [
    {
     "name": "stdout",
     "output_type": "stream",
     "text": [
      "(1604, 5) (8424, 4)\n",
      "5625\n"
     ]
    }
   ],
   "source": [
    "print(train.shape, test.shape)\n",
    "print(len(train['band_1'][0])) #75*75"
   ]
  },
  {
   "cell_type": "code",
   "execution_count": 5,
   "metadata": {
    "collapsed": true
   },
   "outputs": [],
   "source": [
    "train['band_1'] = train['band_1'].apply(lambda x: np.reshape(x, [75,75]))\n",
    "train['band_2'] = train['band_2'].apply(lambda x: np.reshape(x, [75,75]))"
   ]
  },
  {
   "cell_type": "code",
   "execution_count": 6,
   "metadata": {
    "collapsed": true
   },
   "outputs": [],
   "source": [
    "train['inc_angle'] = pd.to_numeric(train['inc_angle'], errors = 'coerce')\n",
    "train['inc_angle'] = train['inc_angle'].fillna(value = train['inc_angle'].mean())"
   ]
  },
  {
   "cell_type": "code",
   "execution_count": 7,
   "metadata": {
    "collapsed": true
   },
   "outputs": [],
   "source": [
    "def drawBands(band1, band2):\n",
    "    band1 = np.reshape(band1, [75,75])\n",
    "    band2 = np.reshape(band2, [75,75])\n",
    "    plt.imshow(band1, interpolation = 'nearest')    \n",
    "    plt.show()\n",
    "    plt.imshow(band2, interpolation = 'nearest')\n",
    "    plt.show()"
   ]
  },
  {
   "cell_type": "code",
   "execution_count": 8,
   "metadata": {},
   "outputs": [
    {
     "data": {
      "image/png": "[encoded data removed]",
      "text/plain": [
       "<matplotlib.figure.Figure at 0x7f9f7ce3f668>"
      ]
     },
     "metadata": {},
     "output_type": "display_data"
    },
    {
     "data": {
      "image/png": "[encoded data removed]",
      "text/plain": [
       "<matplotlib.figure.Figure at 0x7f9f6af359b0>"
      ]
     },
     "metadata": {},
     "output_type": "display_data"
    }
   ],
   "source": [
    "drawBands(train['band_1'][3], train['band_2'][3])"
   ]
  },
  {
   "cell_type": "code",
   "execution_count": 121,
   "metadata": {},
   "outputs": [],
   "source": [
    "image_input = Input(shape = (75,75,2))\n",
    "x = BatchNormalization(axis = -1, input_shape= [75,75,2])(image_input)\n",
    "#CNN 0\n",
    "x = Conv2D(filters = 32, kernel_size = (3,3), activation='relu')(x)\n",
    "x = BatchNormalization(axis = -1)(x) \n",
    "x = MaxPooling2D((2,2), strides = (1,1))(x)\n",
    "\n",
    "#CNN 1\n",
    "x = Conv2D(filters = 64, kernel_size = (3,3), activation='relu')(x)\n",
    "x = BatchNormalization(axis = -1)(x) \n",
    "x = MaxPooling2D((2,2))(x)\n",
    "\n",
    "#CNN 2\n",
    "x = Conv2D(filters = 128, kernel_size = (3,3), activation='relu')(x)\n",
    "x = BatchNormalization(axis = -1)(x) \n",
    "x = MaxPooling2D((2,2))(x)\n",
    "\n",
    "#CNN 3\n",
    "x = Conv2D(filters = 128, kernel_size = (3,3), activation='relu')(x)\n",
    "x = BatchNormalization(axis = -1)(x) \n",
    "x = MaxPooling2D((2,2))(x)\n",
    "\n",
    "#CNN 4\n",
    "x = Conv2D(filters = 64, kernel_size = (3,3), activation='relu')(x)\n",
    "x = BatchNormalization(axis = -1)(x) \n",
    "x = MaxPooling2D((2,2))(x)\n",
    "x = Dropout(0.1)(x)\n",
    "\n",
    "x = Flatten()(x)\n",
    "inc_input = Input(shape = (1,)) #incidence angle\n",
    "y = BatchNormalization(axis = -1)(inc_input)\n",
    "x = Concatenate()([x,y])\n",
    "x = Dense(512, activation='relu')(x)\n",
    "x = BatchNormalization()(x)\n",
    "x = Dropout(0.3)(x)\n",
    "x = Dense(256, activation='relu')(x)\n",
    "x = BatchNormalization()(x)\n",
    "x = Dropout(0.4)(x)\n",
    "x = Dense(128, activation='relu')(x)\n",
    "x = BatchNormalization()(x)\n",
    "x = Dense(1, activation='sigmoid')(x)"
   ]
  },
  {
   "cell_type": "code",
   "execution_count": 122,
   "metadata": {
    "collapsed": true
   },
   "outputs": [],
   "source": [
    "dataInput = []\n",
    "for i in train.index:\n",
    "    dataInput.append(np.stack([train.loc[i]['band_1'], train.loc[i]['band_2']], axis = -1))\n",
    "dataInput = np.array(dataInput)"
   ]
  },
  {
   "cell_type": "code",
   "execution_count": 123,
   "metadata": {
    "collapsed": true
   },
   "outputs": [],
   "source": [
    "np.random.seed(10)\n",
    "indexTrain = np.random.choice(range(train.shape[0]), size = int(0.9*train.shape[0]), replace = False)\n",
    "indexVal = list(set(range(train.shape[0])) - set(indexTrain))\n",
    "dataInputTrain = dataInput[indexTrain]\n",
    "dataInputVal = dataInput[indexVal]\n",
    "traindf = train.loc[indexTrain]\n",
    "valdf = train.loc[indexVal]"
   ]
  },
  {
   "cell_type": "code",
   "execution_count": 124,
   "metadata": {
    "collapsed": true
   },
   "outputs": [],
   "source": [
    "model = Model(inputs = [image_input, inc_input], outputs= x)"
   ]
  },
  {
   "cell_type": "code",
   "execution_count": 125,
   "metadata": {},
   "outputs": [
    {
     "name": "stdout",
     "output_type": "stream",
     "text": [
      "__________________________________________________________________________________________________\n",
      "Layer (type)                    Output Shape         Param #     Connected to                     \n",
      "==================================================================================================\n",
      "input_23 (InputLayer)           (None, 75, 75, 2)    0                                            \n",
      "__________________________________________________________________________________________________\n",
      "batch_normalization_105 (BatchN (None, 75, 75, 2)    8           input_23[0][0]                   \n",
      "__________________________________________________________________________________________________\n",
      "conv2d_58 (Conv2D)              (None, 73, 73, 32)   608         batch_normalization_105[0][0]    \n",
      "__________________________________________________________________________________________________\n",
      "batch_normalization_106 (BatchN (None, 73, 73, 32)   128         conv2d_58[0][0]                  \n",
      "__________________________________________________________________________________________________\n",
      "max_pooling2d_51 (MaxPooling2D) (None, 72, 72, 32)   0           batch_normalization_106[0][0]    \n",
      "__________________________________________________________________________________________________\n",
      "conv2d_59 (Conv2D)              (None, 70, 70, 64)   18496       max_pooling2d_51[0][0]           \n",
      "__________________________________________________________________________________________________\n",
      "batch_normalization_107 (BatchN (None, 70, 70, 64)   256         conv2d_59[0][0]                  \n",
      "__________________________________________________________________________________________________\n",
      "max_pooling2d_52 (MaxPooling2D) (None, 35, 35, 64)   0           batch_normalization_107[0][0]    \n",
      "__________________________________________________________________________________________________\n",
      "conv2d_60 (Conv2D)              (None, 33, 33, 128)  73856       max_pooling2d_52[0][0]           \n",
      "__________________________________________________________________________________________________\n",
      "batch_normalization_108 (BatchN (None, 33, 33, 128)  512         conv2d_60[0][0]                  \n",
      "__________________________________________________________________________________________________\n",
      "max_pooling2d_53 (MaxPooling2D) (None, 16, 16, 128)  0           batch_normalization_108[0][0]    \n",
      "__________________________________________________________________________________________________\n",
      "conv2d_61 (Conv2D)              (None, 14, 14, 128)  147584      max_pooling2d_53[0][0]           \n",
      "__________________________________________________________________________________________________\n",
      "batch_normalization_109 (BatchN (None, 14, 14, 128)  512         conv2d_61[0][0]                  \n",
      "__________________________________________________________________________________________________\n",
      "max_pooling2d_54 (MaxPooling2D) (None, 7, 7, 128)    0           batch_normalization_109[0][0]    \n",
      "__________________________________________________________________________________________________\n",
      "conv2d_62 (Conv2D)              (None, 5, 5, 64)     73792       max_pooling2d_54[0][0]           \n",
      "__________________________________________________________________________________________________\n",
      "batch_normalization_110 (BatchN (None, 5, 5, 64)     256         conv2d_62[0][0]                  \n",
      "__________________________________________________________________________________________________\n",
      "max_pooling2d_55 (MaxPooling2D) (None, 2, 2, 64)     0           batch_normalization_110[0][0]    \n",
      "__________________________________________________________________________________________________\n",
      "dropout_25 (Dropout)            (None, 2, 2, 64)     0           max_pooling2d_55[0][0]           \n",
      "__________________________________________________________________________________________________\n",
      "input_24 (InputLayer)           (None, 1)            0                                            \n",
      "__________________________________________________________________________________________________\n",
      "flatten_11 (Flatten)            (None, 256)          0           dropout_25[0][0]                 \n",
      "__________________________________________________________________________________________________\n",
      "batch_normalization_111 (BatchN (None, 1)            4           input_24[0][0]                   \n",
      "__________________________________________________________________________________________________\n",
      "concatenate_11 (Concatenate)    (None, 257)          0           flatten_11[0][0]                 \n",
      "                                                                 batch_normalization_111[0][0]    \n",
      "__________________________________________________________________________________________________\n",
      "dense_37 (Dense)                (None, 512)          132096      concatenate_11[0][0]             \n",
      "__________________________________________________________________________________________________\n",
      "batch_normalization_112 (BatchN (None, 512)          2048        dense_37[0][0]                   \n",
      "__________________________________________________________________________________________________\n",
      "dropout_26 (Dropout)            (None, 512)          0           batch_normalization_112[0][0]    \n",
      "__________________________________________________________________________________________________\n",
      "dense_38 (Dense)                (None, 256)          131328      dropout_26[0][0]                 \n",
      "__________________________________________________________________________________________________\n",
      "batch_normalization_113 (BatchN (None, 256)          1024        dense_38[0][0]                   \n",
      "__________________________________________________________________________________________________\n",
      "dropout_27 (Dropout)            (None, 256)          0           batch_normalization_113[0][0]    \n",
      "__________________________________________________________________________________________________\n",
      "dense_39 (Dense)                (None, 128)          32896       dropout_27[0][0]                 \n",
      "__________________________________________________________________________________________________\n",
      "batch_normalization_114 (BatchN (None, 128)          512         dense_39[0][0]                   \n",
      "__________________________________________________________________________________________________\n",
      "dense_40 (Dense)                (None, 1)            129         batch_normalization_114[0][0]    \n",
      "==================================================================================================\n",
      "Total params: 616,045\n",
      "Trainable params: 613,415\n",
      "Non-trainable params: 2,630\n",
      "__________________________________________________________________________________________________\n"
     ]
    }
   ],
   "source": [
    "model.summary()"
   ]
  },
  {
   "cell_type": "code",
   "execution_count": 126,
   "metadata": {
    "collapsed": true
   },
   "outputs": [],
   "source": [
    "model.compile(Adam(1e-5), loss = 'binary_crossentropy', metrics=['accuracy'])"
   ]
  },
  {
   "cell_type": "code",
   "execution_count": 127,
   "metadata": {
    "collapsed": true
   },
   "outputs": [],
   "source": [
    "def createGenerator( X, I, Y):\n",
    "    while True:\n",
    "        idx = np.random.permutation( X.shape[0])\n",
    "        datagen = image.ImageDataGenerator( \n",
    "                                            rotation_range=20,\n",
    "                                            height_shift_range=0.1,                                           \n",
    "                                            horizontal_flip = True,\n",
    "                                           vertical_flip = True, \n",
    "                                           width_shift_range=0.1,\n",
    "                                            fill_mode='wrap',\n",
    "                                          )\n",
    "      \n",
    "\n",
    "        batches = datagen.flow( X[idx], Y[idx], batch_size=64, shuffle=False)\n",
    "        idx0 = 0\n",
    "        for batch in batches:\n",
    "            idx1 = idx0 + batch[0].shape[0]\n",
    "\n",
    "            yield [batch[0], I[ idx[ idx0:idx1 ] ]], batch[1]\n",
    "\n",
    "            idx0 = idx1\n",
    "            if idx1 >= X.shape[0]:\n",
    "                break"
   ]
  },
  {
   "cell_type": "code",
   "execution_count": 128,
   "metadata": {
    "collapsed": true
   },
   "outputs": [],
   "source": [
    "earlyStopping = EarlyStopping(monitor='val_loss', patience=15, verbose=0, mode='min')\n",
    "mcp_save = ModelCheckpoint('weights/mdl_wts.hdf5', save_best_only=True, monitor='val_loss', mode='min')\n",
    "reduce_lr_loss = ReduceLROnPlateau(monitor='val_loss', factor=0.2, patience=5, verbose=1, epsilon=1e-4, mode='min')"
   ]
  },
  {
   "cell_type": "code",
   "execution_count": 129,
   "metadata": {},
   "outputs": [
    {
     "name": "stdout",
     "output_type": "stream",
     "text": [
      "Epoch 1/2\n"
     ]
    },
    {
     "name": "stderr",
     "output_type": "stream",
     "text": [
      "/home/haoran/anaconda3/lib/python3.6/site-packages/keras/preprocessing/image.py:855: UserWarning: NumpyArrayIterator is set to use the data format convention \"channels_last\" (channels on axis 3), i.e. expected either 1, 3 or 4 channels on axis 3. However, it was passed an array with shape (1443, 75, 75, 2) (2 channels).\n",
      "  ' (' + str(self.x.shape[channels_axis]) + ' channels).')\n"
     ]
    },
    {
     "name": "stdout",
     "output_type": "stream",
     "text": [
      "46/45 [==============================] - 16s 338ms/step - loss: 0.8710 - acc: 0.5202 - val_loss: 0.7064 - val_acc: 0.4783\n",
      "Epoch 2/2\n",
      "46/45 [==============================] - 12s 265ms/step - loss: 0.8067 - acc: 0.5456 - val_loss: 0.7615 - val_acc: 0.4783\n"
     ]
    },
    {
     "data": {
      "text/plain": [
       "<keras.callbacks.History at 0x7f9f7619dfd0>"
      ]
     },
     "execution_count": 129,
     "metadata": {},
     "output_type": "execute_result"
    }
   ],
   "source": [
    "model.fit_generator(createGenerator(X = dataInputTrain, I = traindf.inc_angle.values, Y = traindf.is_iceberg.values),\n",
    "               validation_data = ([dataInputVal, valdf.inc_angle.values], valdf.is_iceberg.values),\n",
    "                    steps_per_epoch = len(traindf)/32, epochs = 2)"
   ]
  },
  {
   "cell_type": "code",
   "execution_count": 130,
   "metadata": {
    "scrolled": true
   },
   "outputs": [
    {
     "name": "stdout",
     "output_type": "stream",
     "text": [
      "Epoch 1/200\n"
     ]
    },
    {
     "name": "stderr",
     "output_type": "stream",
     "text": [
      "/home/haoran/anaconda3/lib/python3.6/site-packages/keras/preprocessing/image.py:855: UserWarning: NumpyArrayIterator is set to use the data format convention \"channels_last\" (channels on axis 3), i.e. expected either 1, 3 or 4 channels on axis 3. However, it was passed an array with shape (1443, 75, 75, 2) (2 channels).\n",
      "  ' (' + str(self.x.shape[channels_axis]) + ' channels).')\n"
     ]
    },
    {
     "name": "stdout",
     "output_type": "stream",
     "text": [
      "46/45 [==============================] - 17s 363ms/step - loss: 0.6287 - acc: 0.6880 - val_loss: 7.7087 - val_acc: 0.5217\n",
      "Epoch 2/200\n",
      "46/45 [==============================] - 12s 268ms/step - loss: 0.4493 - acc: 0.7832 - val_loss: 2.8399 - val_acc: 0.5280\n",
      "Epoch 3/200\n",
      "46/45 [==============================] - 12s 269ms/step - loss: 0.3961 - acc: 0.8127 - val_loss: 0.5917 - val_acc: 0.7888\n",
      "Epoch 4/200\n",
      "46/45 [==============================] - 13s 276ms/step - loss: 0.3345 - acc: 0.8448 - val_loss: 0.6040 - val_acc: 0.7826\n",
      "Epoch 5/200\n",
      "46/45 [==============================] - 12s 266ms/step - loss: 0.3385 - acc: 0.8436 - val_loss: 0.7053 - val_acc: 0.7826\n",
      "Epoch 6/200\n",
      "46/45 [==============================] - 12s 268ms/step - loss: 0.3100 - acc: 0.8633 - val_loss: 0.5787 - val_acc: 0.7888\n",
      "Epoch 7/200\n",
      "46/45 [==============================] - 12s 270ms/step - loss: 0.2857 - acc: 0.8789 - val_loss: 0.3553 - val_acc: 0.8758\n",
      "Epoch 8/200\n",
      "46/45 [==============================] - 12s 268ms/step - loss: 0.3033 - acc: 0.8720 - val_loss: 0.2698 - val_acc: 0.9130\n",
      "Epoch 9/200\n",
      "46/45 [==============================] - 12s 267ms/step - loss: 0.2799 - acc: 0.8762 - val_loss: 0.5428 - val_acc: 0.8075\n",
      "Epoch 10/200\n",
      "46/45 [==============================] - 12s 266ms/step - loss: 0.2917 - acc: 0.8792 - val_loss: 0.4075 - val_acc: 0.8509\n",
      "Epoch 11/200\n",
      "46/45 [==============================] - 12s 266ms/step - loss: 0.2776 - acc: 0.8796 - val_loss: 0.3239 - val_acc: 0.8634\n",
      "Epoch 12/200\n",
      "46/45 [==============================] - 12s 266ms/step - loss: 0.2837 - acc: 0.8763 - val_loss: 0.2916 - val_acc: 0.8944\n",
      "Epoch 13/200\n",
      "46/45 [==============================] - 12s 267ms/step - loss: 0.2646 - acc: 0.8845 - val_loss: 0.3169 - val_acc: 0.8634\n",
      "Epoch 14/200\n",
      "45/45 [============================>.] - ETA: 0s - loss: 0.2653 - acc: 0.8862\n",
      "Epoch 00014: reducing learning rate to 0.0019999999552965165.\n",
      "46/45 [==============================] - 12s 267ms/step - loss: 0.2684 - acc: 0.8837 - val_loss: 0.5825 - val_acc: 0.7081\n",
      "Epoch 15/200\n",
      "46/45 [==============================] - 12s 266ms/step - loss: 0.2307 - acc: 0.9011 - val_loss: 0.2871 - val_acc: 0.8634\n",
      "Epoch 16/200\n",
      "46/45 [==============================] - 12s 269ms/step - loss: 0.2217 - acc: 0.9098 - val_loss: 0.2539 - val_acc: 0.9317\n",
      "Epoch 17/200\n",
      "46/45 [==============================] - 12s 269ms/step - loss: 0.2139 - acc: 0.9141 - val_loss: 0.2422 - val_acc: 0.9441\n",
      "Epoch 18/200\n",
      "46/45 [==============================] - 12s 270ms/step - loss: 0.2094 - acc: 0.9138 - val_loss: 0.2347 - val_acc: 0.9503\n",
      "Epoch 19/200\n",
      "46/45 [==============================] - 12s 270ms/step - loss: 0.2142 - acc: 0.9118 - val_loss: 0.2344 - val_acc: 0.9379\n",
      "Epoch 20/200\n",
      "46/45 [==============================] - 12s 266ms/step - loss: 0.1980 - acc: 0.9263 - val_loss: 0.2469 - val_acc: 0.9317\n",
      "Epoch 21/200\n",
      "46/45 [==============================] - 12s 268ms/step - loss: 0.1955 - acc: 0.9188 - val_loss: 0.2419 - val_acc: 0.9379\n",
      "Epoch 22/200\n",
      "46/45 [==============================] - 12s 269ms/step - loss: 0.1891 - acc: 0.9243 - val_loss: 0.2268 - val_acc: 0.9441\n",
      "Epoch 23/200\n",
      "46/45 [==============================] - 12s 266ms/step - loss: 0.1922 - acc: 0.9271 - val_loss: 0.2948 - val_acc: 0.8944\n",
      "Epoch 24/200\n",
      "46/45 [==============================] - 12s 269ms/step - loss: 0.2020 - acc: 0.9165 - val_loss: 0.2253 - val_acc: 0.9441\n",
      "Epoch 25/200\n",
      "46/45 [==============================] - 12s 266ms/step - loss: 0.1955 - acc: 0.9211 - val_loss: 0.2454 - val_acc: 0.9130\n",
      "Epoch 26/200\n",
      "46/45 [==============================] - 12s 266ms/step - loss: 0.1952 - acc: 0.9213 - val_loss: 0.2632 - val_acc: 0.9068\n",
      "Epoch 27/200\n",
      "46/45 [==============================] - 12s 266ms/step - loss: 0.1958 - acc: 0.9217 - val_loss: 0.2452 - val_acc: 0.9317\n",
      "Epoch 28/200\n",
      "46/45 [==============================] - 12s 267ms/step - loss: 0.1898 - acc: 0.9227 - val_loss: 0.2307 - val_acc: 0.9565\n",
      "Epoch 29/200\n",
      "46/45 [==============================] - 13s 274ms/step - loss: 0.1873 - acc: 0.9233 - val_loss: 0.3098 - val_acc: 0.9193\n",
      "Epoch 30/200\n",
      "45/45 [============================>.] - ETA: 0s - loss: 0.1876 - acc: 0.9248\n",
      "Epoch 00030: reducing learning rate to 0.0003999999724328518.\n",
      "46/45 [==============================] - 13s 277ms/step - loss: 0.1888 - acc: 0.9245 - val_loss: 0.2597 - val_acc: 0.9006\n",
      "Epoch 31/200\n",
      "46/45 [==============================] - 12s 265ms/step - loss: 0.1722 - acc: 0.9319 - val_loss: 0.2317 - val_acc: 0.9565\n",
      "Epoch 32/200\n",
      "46/45 [==============================] - 12s 267ms/step - loss: 0.1751 - acc: 0.9279 - val_loss: 0.2223 - val_acc: 0.9627\n",
      "Epoch 33/200\n",
      "46/45 [==============================] - 12s 268ms/step - loss: 0.1718 - acc: 0.9314 - val_loss: 0.2203 - val_acc: 0.9503\n",
      "Epoch 34/200\n",
      "46/45 [==============================] - 12s 265ms/step - loss: 0.1624 - acc: 0.9290 - val_loss: 0.2243 - val_acc: 0.9627\n",
      "Epoch 35/200\n",
      "46/45 [==============================] - 12s 269ms/step - loss: 0.1579 - acc: 0.9363 - val_loss: 0.2197 - val_acc: 0.9565\n",
      "Epoch 36/200\n",
      "46/45 [==============================] - 12s 268ms/step - loss: 0.1589 - acc: 0.9354 - val_loss: 0.2163 - val_acc: 0.9503\n",
      "Epoch 37/200\n",
      "46/45 [==============================] - 12s 266ms/step - loss: 0.1490 - acc: 0.9402 - val_loss: 0.2194 - val_acc: 0.9441\n",
      "Epoch 38/200\n",
      "46/45 [==============================] - 12s 266ms/step - loss: 0.1622 - acc: 0.9390 - val_loss: 0.2214 - val_acc: 0.9441\n",
      "Epoch 39/200\n",
      "46/45 [==============================] - 12s 266ms/step - loss: 0.1438 - acc: 0.9453 - val_loss: 0.2181 - val_acc: 0.9565\n",
      "Epoch 40/200\n",
      "46/45 [==============================] - 12s 266ms/step - loss: 0.1636 - acc: 0.9354 - val_loss: 0.2507 - val_acc: 0.9317\n",
      "Epoch 41/200\n",
      "46/45 [==============================] - 12s 266ms/step - loss: 0.1516 - acc: 0.9391 - val_loss: 0.2231 - val_acc: 0.9441\n",
      "Epoch 42/200\n",
      "45/45 [============================>.] - ETA: 0s - loss: 0.1501 - acc: 0.9394\n",
      "Epoch 00042: reducing learning rate to 7.999999215826393e-05.\n",
      "46/45 [==============================] - 12s 265ms/step - loss: 0.1491 - acc: 0.9401 - val_loss: 0.2291 - val_acc: 0.9503\n",
      "Epoch 43/200\n",
      "46/45 [==============================] - 12s 265ms/step - loss: 0.1500 - acc: 0.9372 - val_loss: 0.2237 - val_acc: 0.9441\n",
      "Epoch 44/200\n",
      "46/45 [==============================] - 12s 265ms/step - loss: 0.1502 - acc: 0.9417 - val_loss: 0.2183 - val_acc: 0.9441\n",
      "Epoch 45/200\n",
      "46/45 [==============================] - 12s 265ms/step - loss: 0.1461 - acc: 0.9421 - val_loss: 0.2171 - val_acc: 0.9441\n",
      "Epoch 46/200\n",
      "46/45 [==============================] - 12s 266ms/step - loss: 0.1498 - acc: 0.9373 - val_loss: 0.2178 - val_acc: 0.9503\n",
      "Epoch 47/200\n",
      "45/45 [============================>.] - ETA: 0s - loss: 0.1399 - acc: 0.9432\n",
      "Epoch 00047: reducing learning rate to 1.599999814061448e-05.\n",
      "46/45 [==============================] - 12s 266ms/step - loss: 0.1409 - acc: 0.9426 - val_loss: 0.2175 - val_acc: 0.9441\n",
      "Epoch 48/200\n",
      "46/45 [==============================] - 12s 266ms/step - loss: 0.1518 - acc: 0.9365 - val_loss: 0.2185 - val_acc: 0.9503\n",
      "Epoch 49/200\n",
      "46/45 [==============================] - 12s 265ms/step - loss: 0.1439 - acc: 0.9445 - val_loss: 0.2186 - val_acc: 0.9379\n",
      "Epoch 50/200\n",
      "46/45 [==============================] - 12s 266ms/step - loss: 0.1510 - acc: 0.9432 - val_loss: 0.2175 - val_acc: 0.9441\n",
      "Epoch 51/200\n",
      "46/45 [==============================] - 12s 266ms/step - loss: 0.1510 - acc: 0.9375 - val_loss: 0.2167 - val_acc: 0.9441\n"
     ]
    },
    {
     "data": {
      "text/plain": [
       "<keras.callbacks.History at 0x7f9f7b68b908>"
      ]
     },
     "execution_count": 130,
     "metadata": {},
     "output_type": "execute_result"
    }
   ],
   "source": [
    "K.set_value(model.optimizer.lr, 1e-2)\n",
    "model.fit_generator(createGenerator(X = dataInputTrain, I = traindf.inc_angle.values, Y = traindf.is_iceberg.values),\n",
    "               validation_data = ([dataInputVal, valdf.inc_angle.values], valdf.is_iceberg.values),\n",
    "                    callbacks=[earlyStopping, mcp_save, reduce_lr_loss],\n",
    "                   steps_per_epoch = len(traindf)/32, epochs = 200)"
   ]
  },
  {
   "cell_type": "code",
   "execution_count": null,
   "metadata": {
    "collapsed": true
   },
   "outputs": [],
   "source": []
  }
 ],
 "metadata": {
  "kernelspec": {
   "display_name": "Python 3",
   "language": "python",
   "name": "python3"
  },
  "language_info": {
   "codemirror_mode": {
    "name": "ipython",
    "version": 3
   },
   "file_extension": ".py",
   "mimetype": "text/x-python",
   "name": "python",
   "nbconvert_exporter": "python",
   "pygments_lexer": "ipython3",
   "version": "3.6.3"
  }
 },
 "nbformat": 4,
 "nbformat_minor": 2
}
