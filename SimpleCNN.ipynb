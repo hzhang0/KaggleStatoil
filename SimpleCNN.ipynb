{
 "cells": [
  {
   "cell_type": "code",
   "execution_count": 27,
   "metadata": {},
   "outputs": [],
   "source": [
    "from keras.layers import Conv2D, MaxPooling2D, Input, Dense, Flatten, BatchNormalization, Concatenate, Dropoutout\n",
    "from keras.layers import Input\n",
    "from keras.optimizers import Adam\n",
    "from keras.preprocessing import image\n",
    "from keras.models import Model\n",
    "import numpy as np\n",
    "import pandas as pd\n",
    "from PIL import Image\n",
    "from matplotlib import pyplot as plt\n",
    "import tensorflow as tf"
   ]
  },
  {
   "cell_type": "code",
   "execution_count": 2,
   "metadata": {
    "collapsed": true
   },
   "outputs": [],
   "source": [
    "train = pd.read_json('data/train/processed/train.json')\n",
    "test = pd.read_json('data/test/processed/test.json')"
   ]
  },
  {
   "cell_type": "code",
   "execution_count": 3,
   "metadata": {},
   "outputs": [
    {
     "data": {
      "text/html": [
       "<div>\n",
       "<style>\n",
       "    .dataframe thead tr:only-child th {\n",
       "        text-align: right;\n",
       "    }\n",
       "\n",
       "    .dataframe thead th {\n",
       "        text-align: left;\n",
       "    }\n",
       "\n",
       "    .dataframe tbody tr th {\n",
       "        vertical-align: top;\n",
       "    }\n",
       "</style>\n",
       "<table border=\"1\" class=\"dataframe\">\n",
       "  <thead>\n",
       "    <tr style=\"text-align: right;\">\n",
       "      <th></th>\n",
       "      <th>band_1</th>\n",
       "      <th>band_2</th>\n",
       "      <th>id</th>\n",
       "      <th>inc_angle</th>\n",
       "      <th>is_iceberg</th>\n",
       "    </tr>\n",
       "  </thead>\n",
       "  <tbody>\n",
       "    <tr>\n",
       "      <th>0</th>\n",
       "      <td>[-27.878360999999998, -27.15416, -28.668615, -...</td>\n",
       "      <td>[-27.154118, -29.537888, -31.0306, -32.190483,...</td>\n",
       "      <td>dfd5f913</td>\n",
       "      <td>43.9239</td>\n",
       "      <td>0</td>\n",
       "    </tr>\n",
       "    <tr>\n",
       "      <th>1</th>\n",
       "      <td>[-12.242375, -14.920304999999999, -14.920363, ...</td>\n",
       "      <td>[-31.506321, -27.984554, -26.645678, -23.76760...</td>\n",
       "      <td>e25388fd</td>\n",
       "      <td>38.1562</td>\n",
       "      <td>0</td>\n",
       "    </tr>\n",
       "    <tr>\n",
       "      <th>2</th>\n",
       "      <td>[-24.603676, -24.603714, -24.871029, -23.15277...</td>\n",
       "      <td>[-24.870956, -24.092632, -20.653963, -19.41104...</td>\n",
       "      <td>58b2aaa0</td>\n",
       "      <td>45.2859</td>\n",
       "      <td>1</td>\n",
       "    </tr>\n",
       "    <tr>\n",
       "      <th>3</th>\n",
       "      <td>[-22.454607, -23.082819, -23.998013, -23.99805...</td>\n",
       "      <td>[-27.889421, -27.519794, -27.165262, -29.10350...</td>\n",
       "      <td>4cfc3a18</td>\n",
       "      <td>43.8306</td>\n",
       "      <td>0</td>\n",
       "    </tr>\n",
       "    <tr>\n",
       "      <th>4</th>\n",
       "      <td>[-26.006956, -23.164886, -23.164886, -26.89116...</td>\n",
       "      <td>[-27.206915, -30.259186, -30.259186, -23.16495...</td>\n",
       "      <td>271f93f4</td>\n",
       "      <td>35.6256</td>\n",
       "      <td>0</td>\n",
       "    </tr>\n",
       "  </tbody>\n",
       "</table>\n",
       "</div>"
      ],
      "text/plain": [
       "                                              band_1  \\\n",
       "0  [-27.878360999999998, -27.15416, -28.668615, -...   \n",
       "1  [-12.242375, -14.920304999999999, -14.920363, ...   \n",
       "2  [-24.603676, -24.603714, -24.871029, -23.15277...   \n",
       "3  [-22.454607, -23.082819, -23.998013, -23.99805...   \n",
       "4  [-26.006956, -23.164886, -23.164886, -26.89116...   \n",
       "\n",
       "                                              band_2        id inc_angle  \\\n",
       "0  [-27.154118, -29.537888, -31.0306, -32.190483,...  dfd5f913   43.9239   \n",
       "1  [-31.506321, -27.984554, -26.645678, -23.76760...  e25388fd   38.1562   \n",
       "2  [-24.870956, -24.092632, -20.653963, -19.41104...  58b2aaa0   45.2859   \n",
       "3  [-27.889421, -27.519794, -27.165262, -29.10350...  4cfc3a18   43.8306   \n",
       "4  [-27.206915, -30.259186, -30.259186, -23.16495...  271f93f4   35.6256   \n",
       "\n",
       "   is_iceberg  \n",
       "0           0  \n",
       "1           0  \n",
       "2           1  \n",
       "3           0  \n",
       "4           0  "
      ]
     },
     "execution_count": 3,
     "metadata": {},
     "output_type": "execute_result"
    }
   ],
   "source": [
    "train.head()"
   ]
  },
  {
   "cell_type": "code",
   "execution_count": 4,
   "metadata": {},
   "outputs": [
    {
     "name": "stdout",
     "output_type": "stream",
     "text": [
      "(1604, 5) (8424, 4)\n",
      "5625\n"
     ]
    }
   ],
   "source": [
    "print(train.shape, test.shape)\n",
    "print(len(train['band_1'][0])) #75*75"
   ]
  },
  {
   "cell_type": "code",
   "execution_count": 5,
   "metadata": {
    "collapsed": true
   },
   "outputs": [],
   "source": [
    "train['band_1'] = train['band_1'].apply(lambda x: np.reshape(x, [75,75]))\n",
    "train['band_2'] = train['band_2'].apply(lambda x: np.reshape(x, [75,75]))"
   ]
  },
  {
   "cell_type": "code",
   "execution_count": 6,
   "metadata": {
    "collapsed": true
   },
   "outputs": [],
   "source": [
    "train['inc_angle'] = pd.to_numeric(train['inc_angle'], errors = 'coerce')\n",
    "train['inc_angle'] = train['inc_angle'].fillna(value = train['inc_angle'].mean())"
   ]
  },
  {
   "cell_type": "code",
   "execution_count": 7,
   "metadata": {
    "collapsed": true
   },
   "outputs": [],
   "source": [
    "def drawBands(band1, band2):\n",
    "    band1 = np.reshape(band1, [75,75])\n",
    "    band2 = np.reshape(band2, [75,75])\n",
    "    plt.imshow(band1, interpolation = 'nearest')    \n",
    "    plt.show()\n",
    "    plt.imshow(band2, interpolation = 'nearest')\n",
    "    plt.show()"
   ]
  },
  {
   "cell_type": "code",
   "execution_count": 8,
   "metadata": {
    "scrolled": true
   },
   "outputs": [
    {
     "data": {
      "image/png": "[encoded data removed]",
      "text/plain": [
       "<matplotlib.figure.Figure at 0x7f9270641668>"
      ]
     },
     "metadata": {},
     "output_type": "display_data"
    },
    {
     "data": {
      "image/png": "[encoded data removed]",
      "text/plain": [
       "<matplotlib.figure.Figure at 0x7f925e0e1f98>"
      ]
     },
     "metadata": {},
     "output_type": "display_data"
    }
   ],
   "source": [
    "drawBands(train['band_1'][0], train['band_2'][0])"
   ]
  },
  {
   "cell_type": "code",
   "execution_count": 51,
   "metadata": {},
   "outputs": [],
   "source": [
    "image_input = Input(shape = (75,75,2))\n",
    "x = BatchNormalization(axis = -1, input_shape= [75,75,2])(image_input)\n",
    "x = Conv2D(filters = 32, kernel_size = (3,3), activation='relu')(x)\n",
    "x = BatchNormalization(axis = -1)(x)\n",
    "x = MaxPooling2D((3,3))(x)\n",
    "x = Conv2D(filters = 64, kernel_size = (3,3), activation='relu')(x)\n",
    "x = BatchNormalization(axis = -1)(x)\n",
    "x = MaxPooling2D((3,3))(x)\n",
    "x = Conv2D(filters = 64, kernel_size = (3,3), activation='relu')(x)\n",
    "x = BatchNormalization(axis = -1)(x)\n",
    "x = MaxPooling2D((3,3))(x)\n",
    "x = Flatten()(x)\n",
    "inc_input = Input(shape = (1,)) #incidence angle\n",
    "x = Concatenate()([x,inc_input])\n",
    "x = Dense(200, activation='relu')(x)\n",
    "x = BatchNormalization()(x)\n",
    "x = Dropout(0.2)(x)\n",
    "x = Dense(1, activation='sigmoid')(x)"
   ]
  },
  {
   "cell_type": "code",
   "execution_count": 52,
   "metadata": {
    "collapsed": true,
    "scrolled": false
   },
   "outputs": [],
   "source": [
    "dataInput = []\n",
    "for i in train.index:\n",
    "    dataInput.append(np.stack([train.loc[i]['band_1'], train.loc[i]['band_2']], axis = -1))\n",
    "dataInput = np.array(dataInput)"
   ]
  },
  {
   "cell_type": "code",
   "execution_count": 53,
   "metadata": {
    "collapsed": true
   },
   "outputs": [],
   "source": [
    "np.random.seed(10)\n",
    "indexTrain = np.random.choice(range(train.shape[0]), size = int(0.9*train.shape[0]), replace = False)\n",
    "indexVal = list(set(range(train.shape[0])) - set(indexTrain))\n",
    "dataInputTrain = dataInput[indexTrain]\n",
    "dataInputVal = dataInput[indexVal]\n",
    "traindf = train.loc[indexTrain]\n",
    "valdf = train.loc[indexVal]"
   ]
  },
  {
   "cell_type": "code",
   "execution_count": 54,
   "metadata": {
    "collapsed": true
   },
   "outputs": [],
   "source": [
    "model = Model(inputs = [image_input, inc_input], outputs= x)"
   ]
  },
  {
   "cell_type": "code",
   "execution_count": 55,
   "metadata": {},
   "outputs": [
    {
     "name": "stdout",
     "output_type": "stream",
     "text": [
      "__________________________________________________________________________________________________\n",
      "Layer (type)                    Output Shape         Param #     Connected to                     \n",
      "==================================================================================================\n",
      "input_7 (InputLayer)            (None, 75, 75, 2)    0                                            \n",
      "__________________________________________________________________________________________________\n",
      "batch_normalization_16 (BatchNo (None, 75, 75, 2)    8           input_7[0][0]                    \n",
      "__________________________________________________________________________________________________\n",
      "conv2d_10 (Conv2D)              (None, 73, 73, 32)   608         batch_normalization_16[0][0]     \n",
      "__________________________________________________________________________________________________\n",
      "batch_normalization_17 (BatchNo (None, 73, 73, 32)   128         conv2d_10[0][0]                  \n",
      "__________________________________________________________________________________________________\n",
      "max_pooling2d_10 (MaxPooling2D) (None, 24, 24, 32)   0           batch_normalization_17[0][0]     \n",
      "__________________________________________________________________________________________________\n",
      "conv2d_11 (Conv2D)              (None, 22, 22, 64)   18496       max_pooling2d_10[0][0]           \n",
      "__________________________________________________________________________________________________\n",
      "batch_normalization_18 (BatchNo (None, 22, 22, 64)   256         conv2d_11[0][0]                  \n",
      "__________________________________________________________________________________________________\n",
      "max_pooling2d_11 (MaxPooling2D) (None, 7, 7, 64)     0           batch_normalization_18[0][0]     \n",
      "__________________________________________________________________________________________________\n",
      "conv2d_12 (Conv2D)              (None, 5, 5, 64)     36928       max_pooling2d_11[0][0]           \n",
      "__________________________________________________________________________________________________\n",
      "batch_normalization_19 (BatchNo (None, 5, 5, 64)     256         conv2d_12[0][0]                  \n",
      "__________________________________________________________________________________________________\n",
      "max_pooling2d_12 (MaxPooling2D) (None, 1, 1, 64)     0           batch_normalization_19[0][0]     \n",
      "__________________________________________________________________________________________________\n",
      "flatten_4 (Flatten)             (None, 64)           0           max_pooling2d_12[0][0]           \n",
      "__________________________________________________________________________________________________\n",
      "input_8 (InputLayer)            (None, 1)            0                                            \n",
      "__________________________________________________________________________________________________\n",
      "concatenate_4 (Concatenate)     (None, 65)           0           flatten_4[0][0]                  \n",
      "                                                                 input_8[0][0]                    \n",
      "__________________________________________________________________________________________________\n",
      "dense_6 (Dense)                 (None, 200)          13200       concatenate_4[0][0]              \n",
      "__________________________________________________________________________________________________\n",
      "batch_normalization_20 (BatchNo (None, 200)          800         dense_6[0][0]                    \n",
      "__________________________________________________________________________________________________\n",
      "dropout_2 (Dropout)             (None, 200)          0           batch_normalization_20[0][0]     \n",
      "__________________________________________________________________________________________________\n",
      "dense_7 (Dense)                 (None, 1)            201         dropout_2[0][0]                  \n",
      "==================================================================================================\n",
      "Total params: 70,881\n",
      "Trainable params: 70,157\n",
      "Non-trainable params: 724\n",
      "__________________________________________________________________________________________________\n"
     ]
    }
   ],
   "source": [
    "model.summary()"
   ]
  },
  {
   "cell_type": "code",
   "execution_count": 56,
   "metadata": {
    "collapsed": true
   },
   "outputs": [],
   "source": [
    "model.compile(Adam(1e-5), loss = 'binary_crossentropy', metrics=['accuracy'])"
   ]
  },
  {
   "cell_type": "code",
   "execution_count": 57,
   "metadata": {},
   "outputs": [
    {
     "name": "stdout",
     "output_type": "stream",
     "text": [
      "Train on 1443 samples, validate on 161 samples\n",
      "Epoch 1/2\n",
      "1443/1443 [==============================] - 3s 2ms/step - loss: 0.7797 - acc: 0.5426 - val_loss: 0.8685 - val_acc: 0.4783\n",
      "Epoch 2/2\n",
      "1443/1443 [==============================] - 2s 1ms/step - loss: 0.7133 - acc: 0.5696 - val_loss: 0.8062 - val_acc: 0.4783\n"
     ]
    }
   ],
   "source": [
    "with tf.device('/device:GPU:0'):\n",
    "    model.fit([dataInputTrain, traindf.inc_angle.values], traindf.is_iceberg.values, epochs = 2, batch_size=32,\n",
    "               validation_data = ([dataInputVal, valdf.inc_angle.values], valdf.is_iceberg.values), shuffle = True)"
   ]
  },
  {
   "cell_type": "code",
   "execution_count": 58,
   "metadata": {},
   "outputs": [
    {
     "name": "stdout",
     "output_type": "stream",
     "text": [
      "Train on 1443 samples, validate on 161 samples\n",
      "Epoch 1/5\n",
      "1443/1443 [==============================] - 2s 1ms/step - loss: 0.6806 - acc: 0.6098 - val_loss: 0.7715 - val_acc: 0.4783\n",
      "Epoch 2/5\n",
      "1443/1443 [==============================] - 2s 1ms/step - loss: 0.6460 - acc: 0.6362 - val_loss: 0.7504 - val_acc: 0.4845\n",
      "Epoch 3/5\n",
      "1443/1443 [==============================] - 2s 1ms/step - loss: 0.6310 - acc: 0.6493 - val_loss: 0.7286 - val_acc: 0.5280\n",
      "Epoch 4/5\n",
      "1443/1443 [==============================] - 2s 1ms/step - loss: 0.6243 - acc: 0.6556 - val_loss: 0.7063 - val_acc: 0.5528\n",
      "Epoch 5/5\n",
      "1443/1443 [==============================] - 2s 1ms/step - loss: 0.5963 - acc: 0.6722 - val_loss: 0.6801 - val_acc: 0.5776\n"
     ]
    },
    {
     "data": {
      "text/plain": [
       "<keras.callbacks.History at 0x7f926e6db7f0>"
      ]
     },
     "execution_count": 58,
     "metadata": {},
     "output_type": "execute_result"
    }
   ],
   "source": [
    "model.optimizer.lr = 1e-4\n",
    "model.fit([dataInputTrain, traindf.inc_angle.values], traindf.is_iceberg.values, epochs = 5, batch_size=32,\n",
    "               validation_data = ([dataInputVal, valdf.inc_angle.values], valdf.is_iceberg.values), shuffle = True)"
   ]
  },
  {
   "cell_type": "code",
   "execution_count": 59,
   "metadata": {
    "scrolled": true
   },
   "outputs": [
    {
     "name": "stdout",
     "output_type": "stream",
     "text": [
      "Train on 1443 samples, validate on 161 samples\n",
      "Epoch 1/5\n",
      "1443/1443 [==============================] - 2s 1ms/step - loss: 0.5837 - acc: 0.6764 - val_loss: 0.6507 - val_acc: 0.6211\n",
      "Epoch 2/5\n",
      "1443/1443 [==============================] - 2s 1ms/step - loss: 0.5760 - acc: 0.6951 - val_loss: 0.6300 - val_acc: 0.6522\n",
      "Epoch 3/5\n",
      "1443/1443 [==============================] - 2s 1ms/step - loss: 0.5749 - acc: 0.6778 - val_loss: 0.6021 - val_acc: 0.6770\n",
      "Epoch 4/5\n",
      "1443/1443 [==============================] - 2s 1ms/step - loss: 0.5715 - acc: 0.6965 - val_loss: 0.5837 - val_acc: 0.7081\n",
      "Epoch 5/5\n",
      "1443/1443 [==============================] - 2s 1ms/step - loss: 0.5599 - acc: 0.7159 - val_loss: 0.5678 - val_acc: 0.7205\n"
     ]
    },
    {
     "data": {
      "text/plain": [
       "<keras.callbacks.History at 0x7f925ba9a358>"
      ]
     },
     "execution_count": 59,
     "metadata": {},
     "output_type": "execute_result"
    }
   ],
   "source": [
    "model.optimizer.lr = 1e-3\n",
    "model.fit([dataInputTrain, traindf.inc_angle.values], traindf.is_iceberg.values, epochs = 5, batch_size=32,\n",
    "               validation_data = ([dataInputVal, valdf.inc_angle.values], valdf.is_iceberg.values), shuffle = True)"
   ]
  },
  {
   "cell_type": "code",
   "execution_count": 60,
   "metadata": {
    "scrolled": true
   },
   "outputs": [
    {
     "name": "stdout",
     "output_type": "stream",
     "text": [
      "Train on 1443 samples, validate on 161 samples\n",
      "Epoch 1/20\n",
      "1443/1443 [==============================] - 2s 1ms/step - loss: 0.5394 - acc: 0.7214 - val_loss: 0.5544 - val_acc: 0.7329\n",
      "Epoch 2/20\n",
      "1443/1443 [==============================] - 2s 1ms/step - loss: 0.5378 - acc: 0.7339 - val_loss: 0.5427 - val_acc: 0.7391\n",
      "Epoch 3/20\n",
      "1443/1443 [==============================] - 2s 1ms/step - loss: 0.5354 - acc: 0.7318 - val_loss: 0.5358 - val_acc: 0.7453\n",
      "Epoch 4/20\n",
      "1443/1443 [==============================] - 2s 1ms/step - loss: 0.5170 - acc: 0.7311 - val_loss: 0.5311 - val_acc: 0.7453\n",
      "Epoch 5/20\n",
      "1443/1443 [==============================] - 2s 1ms/step - loss: 0.5281 - acc: 0.7207 - val_loss: 0.5254 - val_acc: 0.7453\n",
      "Epoch 6/20\n",
      "1443/1443 [==============================] - 2s 1ms/step - loss: 0.5002 - acc: 0.7401 - val_loss: 0.5186 - val_acc: 0.7453\n",
      "Epoch 7/20\n",
      "1443/1443 [==============================] - 2s 1ms/step - loss: 0.5057 - acc: 0.7339 - val_loss: 0.5116 - val_acc: 0.7516\n",
      "Epoch 8/20\n",
      "1443/1443 [==============================] - 2s 1ms/step - loss: 0.5033 - acc: 0.7484 - val_loss: 0.5067 - val_acc: 0.7578\n",
      "Epoch 9/20\n",
      "1443/1443 [==============================] - 2s 1ms/step - loss: 0.4966 - acc: 0.7526 - val_loss: 0.5020 - val_acc: 0.7516\n",
      "Epoch 10/20\n",
      "1443/1443 [==============================] - 2s 1ms/step - loss: 0.4910 - acc: 0.7498 - val_loss: 0.4964 - val_acc: 0.7578\n",
      "Epoch 11/20\n",
      "1443/1443 [==============================] - 2s 1ms/step - loss: 0.4639 - acc: 0.7699 - val_loss: 0.4934 - val_acc: 0.7453\n",
      "Epoch 12/20\n",
      "1443/1443 [==============================] - 2s 1ms/step - loss: 0.4732 - acc: 0.7616 - val_loss: 0.4859 - val_acc: 0.7764\n",
      "Epoch 13/20\n",
      "1443/1443 [==============================] - 2s 1ms/step - loss: 0.4640 - acc: 0.7907 - val_loss: 0.4825 - val_acc: 0.7764\n",
      "Epoch 14/20\n",
      "1443/1443 [==============================] - 2s 1ms/step - loss: 0.4727 - acc: 0.7748 - val_loss: 0.4779 - val_acc: 0.7826\n",
      "Epoch 15/20\n",
      "1443/1443 [==============================] - 2s 1ms/step - loss: 0.4444 - acc: 0.7789 - val_loss: 0.4762 - val_acc: 0.7702\n",
      "Epoch 16/20\n",
      "1443/1443 [==============================] - 2s 1ms/step - loss: 0.4474 - acc: 0.7928 - val_loss: 0.4698 - val_acc: 0.7826\n",
      "Epoch 17/20\n",
      "1443/1443 [==============================] - 2s 1ms/step - loss: 0.4436 - acc: 0.7824 - val_loss: 0.4633 - val_acc: 0.7826\n",
      "Epoch 18/20\n",
      "1443/1443 [==============================] - 2s 1ms/step - loss: 0.4539 - acc: 0.7900 - val_loss: 0.4595 - val_acc: 0.7826\n",
      "Epoch 19/20\n",
      "1443/1443 [==============================] - 2s 1ms/step - loss: 0.4458 - acc: 0.7866 - val_loss: 0.4551 - val_acc: 0.7888\n",
      "Epoch 20/20\n",
      "1443/1443 [==============================] - 2s 1ms/step - loss: 0.4328 - acc: 0.8018 - val_loss: 0.4480 - val_acc: 0.7888\n"
     ]
    },
    {
     "data": {
      "text/plain": [
       "<keras.callbacks.History at 0x7f925cee3ba8>"
      ]
     },
     "execution_count": 60,
     "metadata": {},
     "output_type": "execute_result"
    }
   ],
   "source": [
    "model.optimizer.lr = 1e-3\n",
    "model.fit([dataInputTrain, traindf.inc_angle.values], traindf.is_iceberg.values, epochs = 20, batch_size=32,\n",
    "               validation_data = ([dataInputVal, valdf.inc_angle.values], valdf.is_iceberg.values), shuffle = True)"
   ]
  },
  {
   "cell_type": "code",
   "execution_count": 61,
   "metadata": {
    "scrolled": true
   },
   "outputs": [
    {
     "name": "stdout",
     "output_type": "stream",
     "text": [
      "Train on 1443 samples, validate on 161 samples\n",
      "Epoch 1/5\n",
      "1443/1443 [==============================] - 2s 1ms/step - loss: 0.4338 - acc: 0.7983 - val_loss: 0.4449 - val_acc: 0.7888\n",
      "Epoch 2/5\n",
      "1443/1443 [==============================] - 2s 1ms/step - loss: 0.4339 - acc: 0.7893 - val_loss: 0.4428 - val_acc: 0.7888\n",
      "Epoch 3/5\n",
      "1443/1443 [==============================] - 2s 1ms/step - loss: 0.4310 - acc: 0.7935 - val_loss: 0.4439 - val_acc: 0.7826\n",
      "Epoch 4/5\n",
      "1443/1443 [==============================] - 2s 1ms/step - loss: 0.4261 - acc: 0.7935 - val_loss: 0.4423 - val_acc: 0.7826\n",
      "Epoch 5/5\n",
      "1443/1443 [==============================] - 2s 1ms/step - loss: 0.4172 - acc: 0.8101 - val_loss: 0.4367 - val_acc: 0.7826\n"
     ]
    },
    {
     "data": {
      "text/plain": [
       "<keras.callbacks.History at 0x7f9259fe7c50>"
      ]
     },
     "execution_count": 61,
     "metadata": {},
     "output_type": "execute_result"
    }
   ],
   "source": [
    "model.optimizer.lr = 5e-3\n",
    "model.fit([dataInputTrain, traindf.inc_angle.values], traindf.is_iceberg.values, epochs = 5, batch_size=32,\n",
    "               validation_data = ([dataInputVal, valdf.inc_angle.values], valdf.is_iceberg.values), shuffle = True)"
   ]
  },
  {
   "cell_type": "code",
   "execution_count": 64,
   "metadata": {},
   "outputs": [
    {
     "name": "stdout",
     "output_type": "stream",
     "text": [
      "Train on 1443 samples, validate on 161 samples\n",
      "Epoch 1/50\n",
      "1443/1443 [==============================] - 2s 1ms/step - loss: 0.3658 - acc: 0.8316 - val_loss: 0.4122 - val_acc: 0.8199\n",
      "Epoch 2/50\n",
      "1443/1443 [==============================] - 2s 1ms/step - loss: 0.3723 - acc: 0.8219 - val_loss: 0.4114 - val_acc: 0.8199\n",
      "Epoch 3/50\n",
      "1443/1443 [==============================] - 2s 1ms/step - loss: 0.3648 - acc: 0.8288 - val_loss: 0.4099 - val_acc: 0.8137\n",
      "Epoch 4/50\n",
      "1443/1443 [==============================] - 2s 1ms/step - loss: 0.3674 - acc: 0.8274 - val_loss: 0.4065 - val_acc: 0.8199\n",
      "Epoch 5/50\n",
      "1443/1443 [==============================] - 2s 1ms/step - loss: 0.3529 - acc: 0.8420 - val_loss: 0.4036 - val_acc: 0.8199\n",
      "Epoch 6/50\n",
      "1443/1443 [==============================] - 2s 1ms/step - loss: 0.3547 - acc: 0.8475 - val_loss: 0.3997 - val_acc: 0.8137\n",
      "Epoch 7/50\n",
      "1443/1443 [==============================] - 2s 1ms/step - loss: 0.3639 - acc: 0.8337 - val_loss: 0.3966 - val_acc: 0.8199\n",
      "Epoch 8/50\n",
      "1443/1443 [==============================] - 2s 1ms/step - loss: 0.3356 - acc: 0.8559 - val_loss: 0.3961 - val_acc: 0.8199\n",
      "Epoch 9/50\n",
      "1443/1443 [==============================] - 2s 1ms/step - loss: 0.3439 - acc: 0.8455 - val_loss: 0.3947 - val_acc: 0.8199\n",
      "Epoch 10/50\n",
      "1443/1443 [==============================] - 2s 2ms/step - loss: 0.3554 - acc: 0.8358 - val_loss: 0.3931 - val_acc: 0.8199\n",
      "Epoch 11/50\n",
      "1443/1443 [==============================] - 2s 2ms/step - loss: 0.3289 - acc: 0.8503 - val_loss: 0.3929 - val_acc: 0.8261\n",
      "Epoch 12/50\n",
      "1443/1443 [==============================] - 2s 2ms/step - loss: 0.3547 - acc: 0.8351 - val_loss: 0.3910 - val_acc: 0.8137\n",
      "Epoch 13/50\n",
      "1443/1443 [==============================] - 2s 1ms/step - loss: 0.3384 - acc: 0.8524 - val_loss: 0.3845 - val_acc: 0.8137\n",
      "Epoch 14/50\n",
      "1443/1443 [==============================] - 2s 1ms/step - loss: 0.3464 - acc: 0.8427 - val_loss: 0.3849 - val_acc: 0.8137\n",
      "Epoch 15/50\n",
      "1443/1443 [==============================] - 2s 1ms/step - loss: 0.3332 - acc: 0.8489 - val_loss: 0.3918 - val_acc: 0.8012\n",
      "Epoch 16/50\n",
      "1443/1443 [==============================] - 2s 1ms/step - loss: 0.3281 - acc: 0.8565 - val_loss: 0.3876 - val_acc: 0.8137\n",
      "Epoch 17/50\n",
      "1443/1443 [==============================] - 2s 1ms/step - loss: 0.3292 - acc: 0.8565 - val_loss: 0.3854 - val_acc: 0.8075\n",
      "Epoch 18/50\n",
      "1443/1443 [==============================] - 2s 2ms/step - loss: 0.3271 - acc: 0.8510 - val_loss: 0.3825 - val_acc: 0.8075\n",
      "Epoch 19/50\n",
      "1443/1443 [==============================] - 2s 2ms/step - loss: 0.3242 - acc: 0.8545 - val_loss: 0.3799 - val_acc: 0.8137\n",
      "Epoch 20/50\n",
      "1443/1443 [==============================] - 2s 2ms/step - loss: 0.3162 - acc: 0.8635 - val_loss: 0.3736 - val_acc: 0.8137\n",
      "Epoch 21/50\n",
      "1443/1443 [==============================] - 2s 2ms/step - loss: 0.3055 - acc: 0.8711 - val_loss: 0.3724 - val_acc: 0.8137\n",
      "Epoch 22/50\n",
      "1443/1443 [==============================] - 2s 2ms/step - loss: 0.3189 - acc: 0.8579 - val_loss: 0.3709 - val_acc: 0.8199\n",
      "Epoch 23/50\n",
      "1443/1443 [==============================] - 2s 1ms/step - loss: 0.3134 - acc: 0.8614 - val_loss: 0.3723 - val_acc: 0.8137\n",
      "Epoch 24/50\n",
      "1443/1443 [==============================] - 2s 1ms/step - loss: 0.3076 - acc: 0.8669 - val_loss: 0.3771 - val_acc: 0.8199\n",
      "Epoch 25/50\n",
      "1443/1443 [==============================] - 2s 1ms/step - loss: 0.2975 - acc: 0.8808 - val_loss: 0.3753 - val_acc: 0.8137\n",
      "Epoch 26/50\n",
      "1443/1443 [==============================] - 2s 1ms/step - loss: 0.2906 - acc: 0.8877 - val_loss: 0.3794 - val_acc: 0.8199\n",
      "Epoch 27/50\n",
      "1443/1443 [==============================] - 2s 1ms/step - loss: 0.3028 - acc: 0.8753 - val_loss: 0.3773 - val_acc: 0.8137\n",
      "Epoch 28/50\n",
      "1443/1443 [==============================] - 2s 1ms/step - loss: 0.3019 - acc: 0.8663 - val_loss: 0.3765 - val_acc: 0.8199\n",
      "Epoch 29/50\n",
      "1443/1443 [==============================] - 2s 1ms/step - loss: 0.3102 - acc: 0.8579 - val_loss: 0.3790 - val_acc: 0.8137\n",
      "Epoch 30/50\n",
      "1443/1443 [==============================] - 2s 1ms/step - loss: 0.2746 - acc: 0.8891 - val_loss: 0.3812 - val_acc: 0.8199\n",
      "Epoch 31/50\n",
      "1443/1443 [==============================] - 2s 1ms/step - loss: 0.2794 - acc: 0.8822 - val_loss: 0.3832 - val_acc: 0.8137\n",
      "Epoch 32/50\n",
      "1443/1443 [==============================] - 2s 1ms/step - loss: 0.2799 - acc: 0.8822 - val_loss: 0.3721 - val_acc: 0.8137\n",
      "Epoch 33/50\n",
      "1443/1443 [==============================] - 2s 1ms/step - loss: 0.2719 - acc: 0.8891 - val_loss: 0.3715 - val_acc: 0.8137\n",
      "Epoch 34/50\n",
      "1443/1443 [==============================] - 2s 1ms/step - loss: 0.2823 - acc: 0.8801 - val_loss: 0.3702 - val_acc: 0.8075\n",
      "Epoch 35/50\n",
      "1443/1443 [==============================] - 2s 1ms/step - loss: 0.2742 - acc: 0.8850 - val_loss: 0.3654 - val_acc: 0.8012\n",
      "Epoch 36/50\n",
      "1443/1443 [==============================] - 2s 1ms/step - loss: 0.2672 - acc: 0.8815 - val_loss: 0.3678 - val_acc: 0.8075\n",
      "Epoch 37/50\n",
      "1443/1443 [==============================] - 2s 1ms/step - loss: 0.2726 - acc: 0.8905 - val_loss: 0.3696 - val_acc: 0.8137\n",
      "Epoch 38/50\n",
      "1443/1443 [==============================] - 2s 1ms/step - loss: 0.2674 - acc: 0.8843 - val_loss: 0.3660 - val_acc: 0.8075\n",
      "Epoch 39/50\n",
      "1443/1443 [==============================] - 2s 2ms/step - loss: 0.2694 - acc: 0.8836 - val_loss: 0.3693 - val_acc: 0.8137\n",
      "Epoch 40/50\n",
      "1443/1443 [==============================] - 2s 2ms/step - loss: 0.2703 - acc: 0.8829 - val_loss: 0.3721 - val_acc: 0.8137\n",
      "Epoch 41/50\n",
      "1443/1443 [==============================] - 2s 1ms/step - loss: 0.2590 - acc: 0.8947 - val_loss: 0.3694 - val_acc: 0.8137\n",
      "Epoch 42/50\n",
      "1443/1443 [==============================] - 2s 2ms/step - loss: 0.2566 - acc: 0.8940 - val_loss: 0.3681 - val_acc: 0.8075\n",
      "Epoch 43/50\n",
      "1443/1443 [==============================] - 2s 1ms/step - loss: 0.2533 - acc: 0.8960 - val_loss: 0.3638 - val_acc: 0.8199\n",
      "Epoch 44/50\n",
      "1443/1443 [==============================] - 2s 1ms/step - loss: 0.2661 - acc: 0.8926 - val_loss: 0.3669 - val_acc: 0.8137\n",
      "Epoch 45/50\n",
      "1443/1443 [==============================] - 2s 1ms/step - loss: 0.2588 - acc: 0.8967 - val_loss: 0.3605 - val_acc: 0.8261\n",
      "Epoch 46/50\n",
      "1443/1443 [==============================] - 2s 1ms/step - loss: 0.2544 - acc: 0.8967 - val_loss: 0.3624 - val_acc: 0.8199\n",
      "Epoch 47/50\n",
      "1443/1443 [==============================] - 2s 1ms/step - loss: 0.2585 - acc: 0.8891 - val_loss: 0.3653 - val_acc: 0.8261\n",
      "Epoch 48/50\n",
      "1443/1443 [==============================] - 2s 1ms/step - loss: 0.2435 - acc: 0.9064 - val_loss: 0.3685 - val_acc: 0.8199\n",
      "Epoch 49/50\n",
      "1443/1443 [==============================] - 2s 1ms/step - loss: 0.2377 - acc: 0.9058 - val_loss: 0.3650 - val_acc: 0.8261\n",
      "Epoch 50/50\n",
      "1443/1443 [==============================] - 2s 2ms/step - loss: 0.2474 - acc: 0.8940 - val_loss: 0.3662 - val_acc: 0.8261\n"
     ]
    },
    {
     "data": {
      "text/plain": [
       "<keras.callbacks.History at 0x7f9259ef7198>"
      ]
     },
     "execution_count": 64,
     "metadata": {},
     "output_type": "execute_result"
    }
   ],
   "source": [
    "model.optimizer.lr = 1e-3\n",
    "model.fit([dataInputTrain, traindf.inc_angle.values], traindf.is_iceberg.values, epochs = 50, batch_size=32,\n",
    "               validation_data = ([dataInputVal, valdf.inc_angle.values], valdf.is_iceberg.values), shuffle = True)"
   ]
  },
  {
   "cell_type": "markdown",
   "metadata": {},
   "source": [
    "## Test Submission"
   ]
  },
  {
   "cell_type": "code",
   "execution_count": 65,
   "metadata": {
    "collapsed": true
   },
   "outputs": [],
   "source": [
    "test['band_1'] = test['band_1'].apply(lambda x: np.reshape(x, [75,75]))\n",
    "test['band_2'] = test['band_2'].apply(lambda x: np.reshape(x, [75,75]))"
   ]
  },
  {
   "cell_type": "code",
   "execution_count": 66,
   "metadata": {
    "collapsed": true
   },
   "outputs": [],
   "source": [
    "dataTest = []\n",
    "for i in test.index:\n",
    "    dataTest.append(np.stack([test.loc[i]['band_1'], test.loc[i]['band_2']], axis = -1))\n",
    "dataTest = np.array(dataTest)"
   ]
  },
  {
   "cell_type": "code",
   "execution_count": 68,
   "metadata": {},
   "outputs": [],
   "source": [
    "ans = model.predict([dataTest, test.inc_angle.values])"
   ]
  },
  {
   "cell_type": "code",
   "execution_count": 80,
   "metadata": {
    "collapsed": true
   },
   "outputs": [],
   "source": [
    "ans = np.clip(ans, 0.05, 0.95)"
   ]
  },
  {
   "cell_type": "code",
   "execution_count": 81,
   "metadata": {},
   "outputs": [],
   "source": [
    "df = pd.DataFrame({'id': test['id'], 'is_iceberg': np.ravel(ans)})"
   ]
  },
  {
   "cell_type": "code",
   "execution_count": 82,
   "metadata": {},
   "outputs": [
    {
     "data": {
      "text/html": [
       "<div>\n",
       "<style>\n",
       "    .dataframe thead tr:only-child th {\n",
       "        text-align: right;\n",
       "    }\n",
       "\n",
       "    .dataframe thead th {\n",
       "        text-align: left;\n",
       "    }\n",
       "\n",
       "    .dataframe tbody tr th {\n",
       "        vertical-align: top;\n",
       "    }\n",
       "</style>\n",
       "<table border=\"1\" class=\"dataframe\">\n",
       "  <thead>\n",
       "    <tr style=\"text-align: right;\">\n",
       "      <th></th>\n",
       "      <th>id</th>\n",
       "      <th>is_iceberg</th>\n",
       "    </tr>\n",
       "  </thead>\n",
       "  <tbody>\n",
       "    <tr>\n",
       "      <th>0</th>\n",
       "      <td>5941774d</td>\n",
       "      <td>0.106398</td>\n",
       "    </tr>\n",
       "    <tr>\n",
       "      <th>1</th>\n",
       "      <td>4023181e</td>\n",
       "      <td>0.172213</td>\n",
       "    </tr>\n",
       "    <tr>\n",
       "      <th>2</th>\n",
       "      <td>b20200e4</td>\n",
       "      <td>0.078767</td>\n",
       "    </tr>\n",
       "    <tr>\n",
       "      <th>3</th>\n",
       "      <td>e7f018bb</td>\n",
       "      <td>0.950000</td>\n",
       "    </tr>\n",
       "    <tr>\n",
       "      <th>4</th>\n",
       "      <td>4371c8c3</td>\n",
       "      <td>0.515730</td>\n",
       "    </tr>\n",
       "  </tbody>\n",
       "</table>\n",
       "</div>"
      ],
      "text/plain": [
       "         id  is_iceberg\n",
       "0  5941774d    0.106398\n",
       "1  4023181e    0.172213\n",
       "2  b20200e4    0.078767\n",
       "3  e7f018bb    0.950000\n",
       "4  4371c8c3    0.515730"
      ]
     },
     "execution_count": 82,
     "metadata": {},
     "output_type": "execute_result"
    }
   ],
   "source": [
    "df.head()"
   ]
  },
  {
   "cell_type": "code",
   "execution_count": 83,
   "metadata": {
    "collapsed": true
   },
   "outputs": [],
   "source": [
    "df.to_csv('data/answers/simpleCNN.csv', index = False)"
   ]
  },
  {
   "cell_type": "code",
   "execution_count": null,
   "metadata": {
    "collapsed": true
   },
   "outputs": [],
   "source": [
    "# todos\n",
    "# data augmentation\n",
    "# pseudo labelling"
   ]
  }
 ],
 "metadata": {
  "kernelspec": {
   "display_name": "Python 3",
   "language": "python",
   "name": "python3"
  },
  "language_info": {
   "codemirror_mode": {
    "name": "ipython",
    "version": 3
   },
   "file_extension": ".py",
   "mimetype": "text/x-python",
   "name": "python",
   "nbconvert_exporter": "python",
   "pygments_lexer": "ipython3",
   "version": "3.6.3"
  }
 },
 "nbformat": 4,
 "nbformat_minor": 2
}
